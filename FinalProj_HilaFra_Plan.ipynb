{
 "cells": [
  {
   "cell_type": "markdown",
   "id": "74162872-d165-4a12-8cbe-ed9b3e735a41",
   "metadata": {},
   "source": [
    "Francesca Logiacco and Hilal Işık\n",
    "\n",
    "Final Project\n",
    "This project is created and shared by the mentioned authors, \n",
    "with each joint author enjoying an equal interest in the undivided whole.\n",
    "\n",
    "\n",
    "'Find best fitting activity for a Summer Day in Berlin-2022'\n",
    "\n",
    "We want to give the best summer 2022(may-august) activity tipp according to the interests and max budget information of the user. For that purpose we are going to combine different sources:\n",
    "\n",
    "1- Eventbrite\n",
    "- Using the API to download the event informations\n",
    "\n",
    "2- Gratis-in-Berlin\n",
    "- Using the Webscraping method to download the event informations\n",
    "\n",
    "3- Parks and Lakes in Berlin\n",
    "- csv files we prepared with the info from Berlin Bezirksamt and Visit Berlin websites. \n",
    "\n",
    "Used websites:\n",
    "\n",
    "Parks\n",
    "https://www.berlin.de/ba-mitte/ueber-den-bezirk/sehenswertes/parks-und-gaerten/\n",
    "https://www.visitberlin.de/de/parks-gaerten-berlin/bezirk/charlottenburg-wilmersdorf\n",
    "https://www.berlin.de/ba-charlottenburg-wilmersdorf/ueber-den-bezirk/freiflaechen/parks/\n",
    "http://www.suedwestweb-berlin.de/struktur/v0171/s0171.html\n",
    "https://www.berlin.de/ba-neukoelln/ueber-den-bezirk/sehenswertes/artikel.94936.php\n",
    "https://www.berlin.de/ba-neukoelln/ueber-den-bezirk/sehenswertes/artikel.94936.php\n",
    "https://www.spandau-tourist-info.de/parks-gruenzuege-wald/\n",
    "https://www.berlin.de/ba-tempelhof-schoeneberg/ueber-den-bezirk/kultur-freizeit/parks-brunnen/\n",
    "https://www.berlin.de/ba-tempelhof-schoeneberg/ueber-den-bezirk/kultur-freizeit/parks-brunnen/\n",
    "\n",
    "Lakes\n",
    "https://www.voucherwonderland.com/reisemagazin/seen-in-berlin/\n",
    "https://de.wikipedia.org/wiki/Liste_der_Seen_in_Berlin\n",
    "\n",
    "\n",
    "We are going to combine all these data and the tools to give the best activity tipp to the user. \n",
    "How does the process works:\n",
    "\n",
    "-The user is going to give the inputs such as max budget, date and interest(music, sport, literature)\n",
    "-It will try to find matching event from eventbrite/(songkick) and gratisin\n",
    "-if there is no match, we are going to ask the user to give us the district info and their interests(chilling or swimming)\n",
    "-It will check the best matching park or lake around the user's neighbourhood\n",
    "\n",
    "\n"
   ]
  },
  {
   "cell_type": "code",
   "execution_count": null,
   "id": "eda0a24a-8c38-4052-adcf-64e7c613f0cb",
   "metadata": {},
   "outputs": [],
   "source": []
  }
 ],
 "metadata": {
  "kernelspec": {
   "display_name": "Python 3 (ipykernel)",
   "language": "python",
   "name": "python3"
  },
  "language_info": {
   "codemirror_mode": {
    "name": "ipython",
    "version": 3
   },
   "file_extension": ".py",
   "mimetype": "text/x-python",
   "name": "python",
   "nbconvert_exporter": "python",
   "pygments_lexer": "ipython3",
   "version": "3.9.7"
  }
 },
 "nbformat": 4,
 "nbformat_minor": 5
}
